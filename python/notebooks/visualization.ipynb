{
 "cells": [
  {
   "cell_type": "code",
   "execution_count": 23,
   "metadata": {
    "collapsed": false
   },
   "outputs": [],
   "source": [
    "import os\n",
    "\n",
    "import igraph as  ig\n",
    "\n",
    "from biomap import BioMap\n",
    "import biomap.utils.geneset as geneset\n",
    "\n",
    "import deregnet.core\n",
    "import deregnet.script\n",
    "import deregnet.graphs\n",
    "import deregnet.visual\n",
    "#import deregnet.data"
   ]
  },
  {
   "cell_type": "code",
   "execution_count": 2,
   "metadata": {
    "collapsed": false
   },
   "outputs": [],
   "source": [
    "DEREGNET_PATH='/home/sebastian/wrk/deregnet/deregnet/'\n",
    "kegg_path=os.path.join(DEREGNET_PATH, 'test/data/kegg_signaling.graphml')\n",
    "score_path=os.path.join(DEREGNET_PATH, 'test/data/lihc_de_binary_entrez.tsv')"
   ]
  },
  {
   "cell_type": "code",
   "execution_count": 3,
   "metadata": {
    "collapsed": true
   },
   "outputs": [],
   "source": [
    "biomap = BioMap()"
   ]
  },
  {
   "cell_type": "code",
   "execution_count": 4,
   "metadata": {
    "collapsed": true
   },
   "outputs": [],
   "source": [
    "kegg = ig.Graph.Read_GraphML(kegg_path)"
   ]
  },
  {
   "cell_type": "code",
   "execution_count": 5,
   "metadata": {
    "collapsed": false
   },
   "outputs": [],
   "source": [
    "scores = deregnet.script.parse_scores(score_path, id_column=0, score_column=1, col_sep='\\t', has_header=False)"
   ]
  },
  {
   "cell_type": "code",
   "execution_count": 6,
   "metadata": {
    "collapsed": true
   },
   "outputs": [],
   "source": [
    "finder = deregnet.core.SubgraphFinder(kegg)"
   ]
  },
  {
   "cell_type": "code",
   "execution_count": 7,
   "metadata": {
    "collapsed": true
   },
   "outputs": [],
   "source": [
    "kegg_pathways = biomap('kegg_genesets_hsa')"
   ]
  },
  {
   "cell_type": "code",
   "execution_count": 8,
   "metadata": {
    "collapsed": true
   },
   "outputs": [],
   "source": [
    "def get_kegg_pathway(which):\n",
    "    pw = kegg_pathways.map(which, TO='entrez')\n",
    "    return geneset.GeneSet(which, pw)"
   ]
  },
  {
   "cell_type": "code",
   "execution_count": 9,
   "metadata": {
    "collapsed": false
   },
   "outputs": [],
   "source": [
    "hsa03320_ppar = get_kegg_pathway('hsa03320')"
   ]
  },
  {
   "cell_type": "code",
   "execution_count": 10,
   "metadata": {
    "collapsed": true
   },
   "outputs": [],
   "source": [
    "hsa04975_fat = get_kegg_pathway('hsa04975')\n",
    "hsa00565_ether = get_kegg_pathway('hsa00565')\n",
    "hsa01212_fatty_acids = get_kegg_pathway('hsa01212')"
   ]
  },
  {
   "cell_type": "code",
   "execution_count": 11,
   "metadata": {
    "collapsed": false
   },
   "outputs": [],
   "source": [
    "results = finder.run_average_deregnet(scores, \n",
    "                                      receptors=hsa03320_ppar,\n",
    "                                      terminals=hsa01212_fatty_acids,\n",
    "                                      algorithm='Dinkelbach')"
   ]
  },
  {
   "cell_type": "code",
   "execution_count": 12,
   "metadata": {
    "collapsed": false
   },
   "outputs": [],
   "source": [
    "abs_result = finder.run_absolute_deregnet(scores, num_suboptimal=2)"
   ]
  },
  {
   "cell_type": "code",
   "execution_count": 13,
   "metadata": {
    "collapsed": false
   },
   "outputs": [
    {
     "data": {
      "text/plain": [
       "[15.0, 15.0, 15.0]"
      ]
     },
     "execution_count": 13,
     "metadata": {},
     "output_type": "execute_result"
    }
   ],
   "source": [
    "abs_result.scores"
   ]
  },
  {
   "cell_type": "code",
   "execution_count": 14,
   "metadata": {
    "collapsed": false
   },
   "outputs": [
    {
     "name": "stdout",
     "output_type": "stream",
     "text": [
      "igraph.Vertex(<igraph.Graph object at 0x7fc728e99e58>, 0, {'id': 'n7', 'NODETYPE': 'Gene', 'deregnet_receptor': False, 'pathways': \"['hsa04270']\", 'deregnet_score': 1.0, 'deregnet_terminal': False, 'kegg_link': 'http://www.kegg.jp/dbget-bin/www_bget?hsa:5592', 'name': '5592'})\n",
      "igraph.Vertex(<igraph.Graph object at 0x7fc728e99e58>, 1, {'id': 'n69', 'NODETYPE': 'Gene', 'deregnet_receptor': False, 'pathways': \"['hsa05134', 'hsa05224', 'hsa04064']\", 'deregnet_score': 1.0, 'deregnet_terminal': False, 'kegg_link': 'http://www.kegg.jp/dbget-bin/www_bget?hsa:4791', 'name': '4791'})\n",
      "igraph.Vertex(<igraph.Graph object at 0x7fc728e99e58>, 2, {'id': 'n80', 'NODETYPE': 'Gene', 'deregnet_receptor': False, 'pathways': \"['hsa04022', 'hsa05142', 'hsa04961']\", 'deregnet_score': 1.0, 'deregnet_terminal': False, 'kegg_link': 'http://www.kegg.jp/dbget-bin/www_bget?hsa:624', 'name': '624'})\n",
      "igraph.Vertex(<igraph.Graph object at 0x7fc728e99e58>, 3, {'id': 'n130', 'NODETYPE': 'Gene', 'deregnet_receptor': False, 'pathways': \"['hsa04723']\", 'deregnet_score': 1.0, 'deregnet_terminal': False, 'kegg_link': 'http://www.kegg.jp/dbget-bin/www_bget?hsa:1268', 'name': '1268'})\n",
      "igraph.Vertex(<igraph.Graph object at 0x7fc728e99e58>, 4, {'id': 'n133', 'NODETYPE': 'Gene', 'deregnet_receptor': False, 'pathways': \"['hsa00230', 'hsa01100']\", 'deregnet_score': 1.0, 'deregnet_terminal': False, 'kegg_link': 'http://www.kegg.jp/dbget-bin/www_bget?hsa:2987', 'name': '2987'})\n",
      "igraph.Vertex(<igraph.Graph object at 0x7fc728e99e58>, 5, {'id': 'n172', 'NODETYPE': 'Gene', 'deregnet_receptor': False, 'pathways': \"['hsa04024', 'hsa05140', 'hsa05200', 'hsa04210', 'hsa04917', 'hsa05031', 'hsa05161', 'hsa04713', 'hsa04010', 'hsa04658', 'hsa01522', 'hsa04659', 'hsa05166', 'hsa04668', 'hsa04725', 'hsa05210', 'hsa04380', 'hsa04921', 'hsa04728']\", 'deregnet_score': 1.0, 'deregnet_terminal': False, 'kegg_link': 'http://www.kegg.jp/dbget-bin/www_bget?hsa:2353', 'name': '2353'})\n",
      "igraph.Vertex(<igraph.Graph object at 0x7fc728e99e58>, 6, {'id': 'n511', 'NODETYPE': 'Gene', 'deregnet_receptor': False, 'pathways': \"['hsa05162', 'hsa05200', 'hsa05169', 'hsa05161', 'hsa04933', 'hsa01522', 'hsa05215', 'hsa04012', 'hsa05202', 'hsa04068', 'hsa05206', 'hsa05220', 'hsa04151', 'hsa05222', 'hsa05203']\", 'deregnet_score': 1.0, 'deregnet_terminal': False, 'kegg_link': 'http://www.kegg.jp/dbget-bin/www_bget?hsa:1027', 'name': '1027'})\n",
      "igraph.Vertex(<igraph.Graph object at 0x7fc728e99e58>, 7, {'id': 'n586', 'NODETYPE': 'Gene', 'deregnet_receptor': False, 'pathways': \"['hsa04972']\", 'deregnet_score': 1.0, 'deregnet_terminal': False, 'kegg_link': 'http://www.kegg.jp/dbget-bin/www_bget?hsa:5408', 'name': '5408'})\n",
      "igraph.Vertex(<igraph.Graph object at 0x7fc728e99e58>, 8, {'id': 'n609', 'NODETYPE': 'Gene', 'deregnet_receptor': False, 'pathways': \"['hsa04140', 'hsa04068', 'hsa04137', 'hsa05134']\", 'deregnet_score': 1.0, 'deregnet_terminal': False, 'kegg_link': 'http://www.kegg.jp/dbget-bin/www_bget?hsa:664', 'name': '664'})\n",
      "igraph.Vertex(<igraph.Graph object at 0x7fc728e99e58>, 9, {'id': 'n709', 'NODETYPE': 'Gene', 'deregnet_receptor': False, 'pathways': \"['hsa04923']\", 'deregnet_score': 1.0, 'deregnet_terminal': False, 'kegg_link': 'http://www.kegg.jp/dbget-bin/www_bget?hsa:57104', 'name': '57104'})\n",
      "igraph.Vertex(<igraph.Graph object at 0x7fc728e99e58>, 10, {'id': 'n734', 'NODETYPE': 'Gene', 'deregnet_receptor': False, 'pathways': \"['hsa04114']\", 'deregnet_score': 1.0, 'deregnet_terminal': False, 'kegg_link': 'http://www.kegg.jp/dbget-bin/www_bget?hsa:6300', 'name': '6300'})\n",
      "igraph.Vertex(<igraph.Graph object at 0x7fc728e99e58>, 11, {'id': 'n1079', 'NODETYPE': 'Gene', 'deregnet_receptor': False, 'pathways': \"['hsa05340']\", 'deregnet_score': 1.0, 'deregnet_terminal': False, 'kegg_link': 'http://www.kegg.jp/dbget-bin/www_bget?hsa:8625', 'name': '8625'})\n",
      "igraph.Vertex(<igraph.Graph object at 0x7fc728e99e58>, 12, {'id': 'n1118', 'NODETYPE': 'Gene', 'deregnet_receptor': False, 'pathways': \"['hsa04371', 'hsa04211', 'hsa04152', 'hsa05016', 'hsa04922', 'hsa04931', 'hsa04920', 'hsa04910']\", 'deregnet_score': 1.0, 'deregnet_terminal': False, 'kegg_link': 'http://www.kegg.jp/dbget-bin/www_bget?hsa:10891', 'name': '10891'})\n",
      "igraph.Vertex(<igraph.Graph object at 0x7fc728e99e58>, 13, {'id': 'n1140', 'NODETYPE': 'Gene', 'deregnet_receptor': False, 'pathways': \"['hsa04060', 'hsa05205', 'hsa05206']\", 'deregnet_score': 1.0, 'deregnet_terminal': False, 'kegg_link': 'http://www.kegg.jp/dbget-bin/www_bget?hsa:7042', 'name': '7042'})\n",
      "igraph.Vertex(<igraph.Graph object at 0x7fc728e99e58>, 14, {'id': 'n1359', 'NODETYPE': 'Gene', 'deregnet_receptor': False, 'pathways': \"['hsa04664', 'hsa05205', 'hsa04360', 'hsa04261', 'hsa05164', 'hsa04151', 'hsa05110', 'hsa04072', 'hsa05130']\", 'deregnet_score': 1.0, 'deregnet_terminal': False, 'kegg_link': 'http://www.kegg.jp/dbget-bin/www_bget?hsa:5578', 'name': '5578'})\n",
      "igraph.Vertex(<igraph.Graph object at 0x7fc728e99e58>, 15, {'id': 'n1527', 'NODETYPE': 'Gene', 'deregnet_receptor': False, 'pathways': \"['hsa05202', 'hsa04060', 'hsa05323', 'hsa04066']\", 'deregnet_score': 1.0, 'deregnet_terminal': False, 'kegg_link': 'http://www.kegg.jp/dbget-bin/www_bget?hsa:2321', 'name': '2321'})\n",
      "igraph.Vertex(<igraph.Graph object at 0x7fc728e99e58>, 16, {'id': 'n1783', 'NODETYPE': 'Gene', 'deregnet_receptor': False, 'pathways': \"['hsa04024', 'hsa04657', 'hsa05160', 'hsa05200', 'hsa04210', 'hsa05161', 'hsa04620', 'hsa05215', 'hsa05120', 'hsa05166', 'hsa05142', 'hsa04931', 'hsa04668', 'hsa05134', 'hsa05168', 'hsa04380', 'hsa05203', 'hsa05220', 'hsa05222', 'hsa04064']\", 'deregnet_score': 1.0, 'deregnet_terminal': False, 'kegg_link': 'http://www.kegg.jp/dbget-bin/www_bget?hsa:4792', 'name': '4792'})\n",
      "igraph.Vertex(<igraph.Graph object at 0x7fc728e99e58>, 17, {'id': 'n2096', 'NODETYPE': 'Gene', 'deregnet_receptor': False, 'pathways': \"['hsa04213', 'hsa04722', 'hsa04137', 'hsa04151', 'hsa05213', 'hsa05223', 'hsa01521', 'hsa04062', 'hsa04917']\", 'deregnet_score': 1.0, 'deregnet_terminal': False, 'kegg_link': 'http://www.kegg.jp/dbget-bin/www_bget?hsa:2309', 'name': '2309'})\n",
      "igraph.Vertex(<igraph.Graph object at 0x7fc728e99e58>, 18, {'id': 'n2179', 'NODETYPE': 'Gene', 'deregnet_receptor': False, 'pathways': \"['hsa04137']\", 'deregnet_score': 1.0, 'deregnet_terminal': False, 'kegg_link': 'http://www.kegg.jp/dbget-bin/www_bget?hsa:139341', 'name': '139341'})\n",
      "igraph.Vertex(<igraph.Graph object at 0x7fc728e99e58>, 19, {'id': 'n2289', 'NODETYPE': 'Gene', 'deregnet_receptor': False, 'pathways': \"['hsa04270', 'hsa04371', 'hsa04614', 'hsa04924', 'hsa04933', 'hsa04925']\", 'deregnet_score': 1.0, 'deregnet_terminal': False, 'kegg_link': 'http://www.kegg.jp/dbget-bin/www_bget?hsa:185', 'name': '185'})\n",
      "igraph.Vertex(<igraph.Graph object at 0x7fc728e99e58>, 20, {'id': 'n2405', 'NODETYPE': 'Gene', 'deregnet_receptor': False, 'pathways': \"['hsa04657', 'hsa05202', 'hsa04668']\", 'deregnet_score': 1.0, 'deregnet_terminal': False, 'kegg_link': 'http://www.kegg.jp/dbget-bin/www_bget?hsa:1051', 'name': '1051'})\n",
      "igraph.Vertex(<igraph.Graph object at 0x7fc728e99e58>, 21, {'id': 'n2439', 'NODETYPE': 'Gene', 'deregnet_receptor': False, 'pathways': \"['hsa05340', 'hsa05152', 'hsa05164', 'hsa04612', 'hsa05145']\", 'deregnet_score': 1.0, 'deregnet_terminal': False, 'kegg_link': 'http://www.kegg.jp/dbget-bin/www_bget?hsa:4261', 'name': '4261'})\n",
      "igraph.Vertex(<igraph.Graph object at 0x7fc728e99e58>, 22, {'id': 'n2479', 'NODETYPE': 'Gene', 'deregnet_receptor': False, 'pathways': \"['hsa00230', 'hsa00983']\", 'deregnet_score': 1.0, 'deregnet_terminal': False, 'kegg_link': 'http://www.kegg.jp/dbget-bin/www_bget?hsa:3704', 'name': '3704'})\n",
      "igraph.Vertex(<igraph.Graph object at 0x7fc728e99e58>, 23, {'id': 'n2535', 'NODETYPE': 'Gene', 'deregnet_receptor': False, 'pathways': \"['hsa05340']\", 'deregnet_score': 1.0, 'deregnet_terminal': False, 'kegg_link': 'http://www.kegg.jp/dbget-bin/www_bget?hsa:5993', 'name': '5993'})\n",
      "igraph.Vertex(<igraph.Graph object at 0x7fc728e99e58>, 24, {'id': 'n2597', 'NODETYPE': 'Gene', 'deregnet_receptor': False, 'pathways': \"['hsa04657', 'hsa04064']\", 'deregnet_score': 1.0, 'deregnet_terminal': False, 'kegg_link': 'http://www.kegg.jp/dbget-bin/www_bget?hsa:7188', 'name': '7188'})\n",
      "igraph.Vertex(<igraph.Graph object at 0x7fc728e99e58>, 25, {'id': 'n2897', 'NODETYPE': 'Gene', 'deregnet_receptor': False, 'pathways': \"['hsa04211', 'hsa04152', 'hsa05031', 'hsa04922', 'hsa04213', 'hsa04068', 'hsa05206']\", 'deregnet_score': 1.0, 'deregnet_terminal': False, 'kegg_link': 'http://www.kegg.jp/dbget-bin/www_bget?hsa:23411', 'name': '23411'})\n",
      "igraph.Vertex(<igraph.Graph object at 0x7fc728e99e58>, 26, {'id': 'n3097', 'NODETYPE': 'Gene', 'deregnet_receptor': False, 'pathways': \"['hsa04657', 'hsa05160', 'hsa04662', 'hsa05131', 'hsa05169', 'hsa05340', 'hsa04660', 'hsa04620', 'hsa05120', 'hsa05166', 'hsa04621', 'hsa05168', 'hsa04668', 'hsa04380', 'hsa05203', 'hsa04622', 'hsa04064']\", 'deregnet_score': 1.0, 'deregnet_terminal': False, 'kegg_link': 'http://www.kegg.jp/dbget-bin/www_bget?hsa:8517', 'name': '8517'})\n",
      "igraph.Vertex(<igraph.Graph object at 0x7fc728e99e58>, 27, {'id': 'n3193', 'NODETYPE': 'Gene', 'deregnet_receptor': False, 'pathways': \"['hsa05133', 'hsa05145', 'hsa05161', 'hsa05205', 'hsa04145', 'hsa04620', 'hsa05132', 'hsa04064', 'hsa04621', 'hsa05142', 'hsa05134', 'hsa05152', 'hsa05164', 'hsa05321', 'hsa04066', 'hsa05130']\", 'deregnet_score': 1.0, 'deregnet_terminal': False, 'kegg_link': 'http://www.kegg.jp/dbget-bin/www_bget?hsa:7099', 'name': '7099'})\n",
      "igraph.Vertex(<igraph.Graph object at 0x7fc728e99e58>, 28, {'id': 'n3235', 'NODETYPE': 'Gene', 'deregnet_receptor': False, 'pathways': \"['hsa05231', 'hsa00564']\", 'deregnet_score': 1.0, 'deregnet_terminal': False, 'kegg_link': 'http://www.kegg.jp/dbget-bin/www_bget?hsa:56261', 'name': '56261'})\n",
      "igraph.Vertex(<igraph.Graph object at 0x7fc728e99e58>, 29, {'id': 'n3294', 'NODETYPE': 'Gene', 'deregnet_receptor': False, 'pathways': \"['hsa05160', 'hsa05200', 'hsa05219', 'hsa05214', 'hsa04010', 'hsa04072', 'hsa05224', 'hsa04012', 'hsa04068', 'hsa04060', 'hsa04144', 'hsa05223', 'hsa01521', 'hsa05212', 'hsa05213', 'hsa04066']\", 'deregnet_score': 1.0, 'deregnet_terminal': False, 'kegg_link': 'http://www.kegg.jp/dbget-bin/www_bget?hsa:1950', 'name': '1950'})\n",
      "igraph.Vertex(<igraph.Graph object at 0x7fc728e99e58>, 30, {'id': 'n3427', 'NODETYPE': 'Gene', 'deregnet_receptor': False, 'pathways': \"['hsa05205']\", 'deregnet_score': 1.0, 'deregnet_terminal': False, 'kegg_link': 'http://www.kegg.jp/dbget-bin/www_bget?hsa:4087', 'name': '4087'})\n",
      "igraph.Vertex(<igraph.Graph object at 0x7fc728e99e58>, 31, {'id': 'n3619', 'NODETYPE': 'Gene', 'deregnet_receptor': False, 'pathways': \"['hsa04962']\", 'deregnet_score': 1.0, 'deregnet_terminal': False, 'kegg_link': 'http://www.kegg.jp/dbget-bin/www_bget?hsa:554', 'name': '554'})\n",
      "igraph.Vertex(<igraph.Graph object at 0x7fc728e99e58>, 32, {'id': 'n3685', 'NODETYPE': 'Gene', 'deregnet_receptor': False, 'pathways': \"['hsa04722', 'hsa04621', 'hsa05152', 'hsa05131']\", 'deregnet_score': 1.0, 'deregnet_terminal': False, 'kegg_link': 'http://www.kegg.jp/dbget-bin/www_bget?hsa:8767', 'name': '8767'})\n",
      "igraph.Vertex(<igraph.Graph object at 0x7fc728e99e58>, 33, {'id': 'n3847', 'NODETYPE': 'Gene', 'deregnet_receptor': False, 'pathways': 'None', 'deregnet_score': 1.0, 'deregnet_terminal': False, 'kegg_link': 'None', 'name': '816'})\n",
      "igraph.Vertex(<igraph.Graph object at 0x7fc728e99e58>, 34, {'id': 'n4767', 'NODETYPE': 'Gene', 'deregnet_receptor': False, 'pathways': 'None', 'deregnet_score': 1.0, 'deregnet_terminal': False, 'kegg_link': 'None', 'name': '5147'})\n",
      "igraph.Vertex(<igraph.Graph object at 0x7fc728e99e58>, 35, {'id': 'n4809', 'NODETYPE': 'Gene', 'deregnet_receptor': True, 'pathways': 'None', 'deregnet_score': 1.0, 'deregnet_terminal': False, 'kegg_link': 'None', 'name': '5105'})\n",
      "igraph.Vertex(<igraph.Graph object at 0x7fc728e99e58>, 36, {'id': 'n4871', 'NODETYPE': 'Gene', 'deregnet_receptor': False, 'pathways': 'None', 'deregnet_score': 1.0, 'deregnet_terminal': False, 'kegg_link': 'None', 'name': '5516'})\n",
      "igraph.Vertex(<igraph.Graph object at 0x7fc728e99e58>, 37, {'id': 'n4947', 'NODETYPE': 'Gene', 'deregnet_receptor': False, 'pathways': 'None', 'deregnet_score': 1.0, 'deregnet_terminal': False, 'kegg_link': 'None', 'name': '8202'})\n",
      "igraph.Vertex(<igraph.Graph object at 0x7fc728e99e58>, 38, {'id': 'n4974', 'NODETYPE': 'Gene', 'deregnet_receptor': False, 'pathways': 'None', 'deregnet_score': 1.0, 'deregnet_terminal': False, 'kegg_link': 'None', 'name': '6240'})\n",
      "igraph.Vertex(<igraph.Graph object at 0x7fc728e99e58>, 39, {'id': 'n5164', 'NODETYPE': 'Gene', 'deregnet_receptor': False, 'pathways': 'None', 'deregnet_score': 1.0, 'deregnet_terminal': False, 'kegg_link': 'None', 'name': '1120'})\n",
      "igraph.Vertex(<igraph.Graph object at 0x7fc728e99e58>, 40, {'id': 'n5302', 'NODETYPE': 'Gene', 'deregnet_receptor': False, 'pathways': 'None', 'deregnet_score': 1.0, 'deregnet_terminal': False, 'kegg_link': 'None', 'name': '29922'})\n",
      "igraph.Vertex(<igraph.Graph object at 0x7fc728e99e58>, 41, {'id': 'n5421', 'NODETYPE': 'Gene', 'deregnet_receptor': False, 'pathways': 'None', 'deregnet_score': 1.0, 'deregnet_terminal': False, 'kegg_link': 'None', 'name': '1457'})\n",
      "igraph.Vertex(<igraph.Graph object at 0x7fc728e99e58>, 42, {'id': 'n5638', 'NODETYPE': 'Gene', 'deregnet_receptor': False, 'pathways': 'None', 'deregnet_score': 1.0, 'deregnet_terminal': False, 'kegg_link': 'None', 'name': '5567'})\n",
      "igraph.Vertex(<igraph.Graph object at 0x7fc728e99e58>, 43, {'id': 'n5846', 'NODETYPE': 'Gene', 'deregnet_receptor': False, 'pathways': 'None', 'deregnet_score': 1.0, 'deregnet_terminal': False, 'kegg_link': 'None', 'name': '114'})\n",
      "igraph.Vertex(<igraph.Graph object at 0x7fc728e99e58>, 44, {'id': 'n6068', 'NODETYPE': 'Gene', 'deregnet_receptor': False, 'pathways': 'None', 'deregnet_score': 1.0, 'deregnet_terminal': False, 'kegg_link': 'None', 'name': '23710'})\n",
      "igraph.Vertex(<igraph.Graph object at 0x7fc728e99e58>, 45, {'id': 'n6438', 'NODETYPE': 'Gene', 'deregnet_receptor': False, 'pathways': 'None', 'deregnet_score': 1.0, 'deregnet_terminal': False, 'kegg_link': 'None', 'name': '1398'})\n",
      "igraph.Vertex(<igraph.Graph object at 0x7fc728e99e58>, 46, {'id': 'n6485', 'NODETYPE': 'Gene', 'deregnet_receptor': False, 'pathways': 'None', 'deregnet_score': 1.0, 'deregnet_terminal': False, 'kegg_link': 'None', 'name': '3108'})\n",
      "igraph.Vertex(<igraph.Graph object at 0x7fc728e99e58>, 47, {'id': 'n6566', 'NODETYPE': 'Gene', 'deregnet_receptor': False, 'pathways': 'None', 'deregnet_score': 1.0, 'deregnet_terminal': False, 'kegg_link': 'None', 'name': '3111'})\n",
      "igraph.Vertex(<igraph.Graph object at 0x7fc728e99e58>, 48, {'id': 'n6638', 'NODETYPE': 'Gene', 'deregnet_receptor': False, 'pathways': 'None', 'deregnet_score': 1.0, 'deregnet_terminal': False, 'kegg_link': 'None', 'name': '375775'})\n",
      "igraph.Vertex(<igraph.Graph object at 0x7fc728e99e58>, 49, {'id': 'n6735', 'NODETYPE': 'Gene', 'deregnet_receptor': False, 'pathways': 'None', 'deregnet_score': 1.0, 'deregnet_terminal': False, 'kegg_link': 'None', 'name': '9663'})\n"
     ]
    }
   ],
   "source": [
    "for v in results.optimal.vs:\n",
    "    print(v)"
   ]
  },
  {
   "cell_type": "code",
   "execution_count": 15,
   "metadata": {
    "collapsed": true
   },
   "outputs": [],
   "source": [
    "fatty = kegg.vs.select(name_in=hsa01212_fatty_acids)"
   ]
  },
  {
   "cell_type": "code",
   "execution_count": 16,
   "metadata": {
    "collapsed": false
   },
   "outputs": [
    {
     "data": {
      "text/plain": [
       "<igraph.VertexSeq at 0x7fc7113d2318>"
      ]
     },
     "execution_count": 16,
     "metadata": {},
     "output_type": "execute_result"
    }
   ],
   "source": [
    "fatty"
   ]
  },
  {
   "cell_type": "code",
   "execution_count": 17,
   "metadata": {
    "collapsed": false
   },
   "outputs": [
    {
     "data": {
      "text/plain": [
       "48"
      ]
     },
     "execution_count": 17,
     "metadata": {},
     "output_type": "execute_result"
    }
   ],
   "source": [
    "len(fatty)"
   ]
  },
  {
   "cell_type": "code",
   "execution_count": 18,
   "metadata": {
    "collapsed": false
   },
   "outputs": [
    {
     "name": "stdout",
     "output_type": "stream",
     "text": [
      "igraph.Vertex(<igraph.Graph object at 0x7fc7118a5138>, 57, {'id': 'n57', 'kegg_link': 'http://www.kegg.jp/dbget-bin/www_bget?hsa:30', 'name': '30', 'NODETYPE': 'Gene', 'pathways': \"['hsa01040', 'hsa00592', 'hsa03320', 'hsa01212', 'hsa01100', 'hsa04146']\"})\n",
      "igraph.Vertex(<igraph.Graph object at 0x7fc7118a5138>, 164, {'id': 'n164', 'kegg_link': 'http://www.kegg.jp/dbget-bin/www_bget?hsa:31', 'name': '31', 'NODETYPE': 'Gene', 'pathways': \"['hsa01212', 'hsa04152']\"})\n",
      "igraph.Vertex(<igraph.Graph object at 0x7fc7118a5138>, 350, {'id': 'n350', 'kegg_link': 'http://www.kegg.jp/dbget-bin/www_bget?hsa:35', 'name': '35', 'NODETYPE': 'Gene', 'pathways': \"['hsa00280', 'hsa01200', 'hsa00650', 'hsa00071']\"})\n",
      "igraph.Vertex(<igraph.Graph object at 0x7fc7118a5138>, 544, {'id': 'n544', 'kegg_link': 'http://www.kegg.jp/dbget-bin/www_bget?hsa:51144', 'name': '51144', 'NODETYPE': 'Gene', 'pathways': \"['hsa01212', 'hsa01040', 'hsa00062']\"})\n",
      "igraph.Vertex(<igraph.Graph object at 0x7fc7118a5138>, 614, {'id': 'n614', 'kegg_link': 'http://www.kegg.jp/dbget-bin/www_bget?hsa:36', 'name': '36', 'NODETYPE': 'Gene', 'pathways': \"['hsa00280', 'hsa00071']\"})\n",
      "igraph.Vertex(<igraph.Graph object at 0x7fc7118a5138>, 706, {'id': 'n706', 'kegg_link': 'http://www.kegg.jp/dbget-bin/www_bget?hsa:79071', 'name': '79071', 'NODETYPE': 'Gene', 'pathways': \"['hsa01212', 'hsa01040']\"})\n",
      "igraph.Vertex(<igraph.Graph object at 0x7fc7118a5138>, 750, {'id': 'n750', 'kegg_link': 'http://www.kegg.jp/dbget-bin/www_bget?hsa:9415', 'name': '9415', 'NODETYPE': 'Gene', 'pathways': \"['hsa01212', 'hsa03320', 'hsa01040', 'hsa00592']\"})\n",
      "igraph.Vertex(<igraph.Graph object at 0x7fc7118a5138>, 991, {'id': 'n991', 'kegg_link': 'http://www.kegg.jp/dbget-bin/www_bget?hsa:1374', 'name': '1374', 'NODETYPE': 'Gene', 'pathways': \"['hsa04931']\"})\n",
      "igraph.Vertex(<igraph.Graph object at 0x7fc7118a5138>, 1371, {'id': 'n1371', 'kegg_link': 'http://www.kegg.jp/dbget-bin/www_bget?hsa:9524', 'name': '9524', 'NODETYPE': 'Gene', 'pathways': \"['hsa01212', 'hsa00062']\"})\n",
      "igraph.Vertex(<igraph.Graph object at 0x7fc7118a5138>, 1430, {'id': 'n1430', 'kegg_link': 'http://www.kegg.jp/dbget-bin/www_bget?hsa:3992', 'name': '3992', 'NODETYPE': 'Gene', 'pathways': \"['hsa01212', 'hsa01040']\"})\n",
      "igraph.Vertex(<igraph.Graph object at 0x7fc7118a5138>, 1742, {'id': 'n1742', 'kegg_link': 'http://www.kegg.jp/dbget-bin/www_bget?hsa:37', 'name': '37', 'NODETYPE': 'Gene', 'pathways': \"['hsa00071']\"})\n",
      "igraph.Vertex(<igraph.Graph object at 0x7fc7118a5138>, 1994, {'id': 'n1994', 'kegg_link': 'http://www.kegg.jp/dbget-bin/www_bget?hsa:54995', 'name': '54995', 'NODETYPE': 'Gene', 'pathways': \"['hsa00061', 'hsa00780', 'hsa01100']\"})\n",
      "igraph.Vertex(<igraph.Graph object at 0x7fc7118a5138>, 2062, {'id': 'n2062', 'kegg_link': 'http://www.kegg.jp/dbget-bin/www_bget?hsa:1375', 'name': '1375', 'NODETYPE': 'Gene', 'pathways': \"['hsa04931']\"})\n",
      "igraph.Vertex(<igraph.Graph object at 0x7fc7118a5138>, 2203, {'id': 'n2203', 'kegg_link': 'http://www.kegg.jp/dbget-bin/www_bget?hsa:34', 'name': '34', 'NODETYPE': 'Gene', 'pathways': \"['hsa01200', 'hsa03320', 'hsa00640', 'hsa00071', 'hsa00410', 'hsa00280', 'hsa01100']\"})\n",
      "igraph.Vertex(<igraph.Graph object at 0x7fc7118a5138>, 2412, {'id': 'n2412', 'kegg_link': 'http://www.kegg.jp/dbget-bin/www_bget?hsa:2194', 'name': '2194', 'NODETYPE': 'Gene', 'pathways': \"['hsa00061', 'hsa01212', 'hsa04152', 'hsa01100', 'hsa04910']\"})\n",
      "igraph.Vertex(<igraph.Graph object at 0x7fc7118a5138>, 2484, {'id': 'n2484', 'kegg_link': 'http://www.kegg.jp/dbget-bin/www_bget?hsa:54898', 'name': '54898', 'NODETYPE': 'Gene', 'pathways': \"['hsa01212', 'hsa01040']\"})\n",
      "igraph.Vertex(<igraph.Graph object at 0x7fc7118a5138>, 2817, {'id': 'n2817', 'kegg_link': 'http://www.kegg.jp/dbget-bin/www_bget?hsa:27349', 'name': '27349', 'NODETYPE': 'Gene', 'pathways': \"['hsa00061']\"})\n",
      "igraph.Vertex(<igraph.Graph object at 0x7fc7118a5138>, 2845, {'id': 'n2845', 'kegg_link': 'http://www.kegg.jp/dbget-bin/www_bget?hsa:55825', 'name': '55825', 'NODETYPE': 'Gene', 'pathways': \"['hsa04146']\"})\n",
      "igraph.Vertex(<igraph.Graph object at 0x7fc7118a5138>, 2947, {'id': 'n2947', 'kegg_link': 'http://www.kegg.jp/dbget-bin/www_bget?hsa:1962', 'name': '1962', 'NODETYPE': 'Gene', 'pathways': \"['hsa03320', 'hsa04146']\"})\n",
      "igraph.Vertex(<igraph.Graph object at 0x7fc7118a5138>, 3042, {'id': 'n3042', 'kegg_link': 'http://www.kegg.jp/dbget-bin/www_bget?hsa:1376', 'name': '1376', 'NODETYPE': 'Gene', 'pathways': \"['hsa01212', 'hsa03320', 'hsa00071']\"})\n",
      "igraph.Vertex(<igraph.Graph object at 0x7fc7118a5138>, 3101, {'id': 'n3101', 'kegg_link': 'http://www.kegg.jp/dbget-bin/www_bget?hsa:60481', 'name': '60481', 'NODETYPE': 'Gene', 'pathways': \"['hsa01212', 'hsa01040']\"})\n",
      "igraph.Vertex(<igraph.Graph object at 0x7fc7118a5138>, 3113, {'id': 'n3113', 'kegg_link': 'http://www.kegg.jp/dbget-bin/www_bget?hsa:39', 'name': '39', 'NODETYPE': 'Gene', 'pathways': \"['hsa04975']\"})\n",
      "igraph.Vertex(<igraph.Graph object at 0x7fc7118a5138>, 3123, {'id': 'n3123', 'kegg_link': 'http://www.kegg.jp/dbget-bin/www_bget?hsa:51102', 'name': '51102', 'NODETYPE': 'Gene', 'pathways': \"['hsa01212', 'hsa00062']\"})\n",
      "igraph.Vertex(<igraph.Graph object at 0x7fc7118a5138>, 3192, {'id': 'n3192', 'kegg_link': 'http://www.kegg.jp/dbget-bin/www_bget?hsa:3033', 'name': '3033', 'NODETYPE': 'Gene', 'pathways': \"['hsa00062']\"})\n",
      "igraph.Vertex(<igraph.Graph object at 0x7fc7118a5138>, 3412, {'id': 'n3412', 'kegg_link': 'http://www.kegg.jp/dbget-bin/www_bget?hsa:3030', 'name': '3030', 'NODETYPE': 'Gene', 'pathways': \"['hsa01212', 'hsa01040', 'hsa00071', 'hsa00062']\"})\n",
      "igraph.Vertex(<igraph.Graph object at 0x7fc7118a5138>, 3489, {'id': 'n3489', 'kegg_link': 'http://www.kegg.jp/dbget-bin/www_bget?hsa:33', 'name': '33', 'NODETYPE': 'Gene', 'pathways': \"['hsa03320', 'hsa00071']\"})\n",
      "igraph.Vertex(<igraph.Graph object at 0x7fc7118a5138>, 4020, {'id': 'n4020', 'kegg_link': 'None', 'name': '51', 'NODETYPE': 'Gene', 'pathways': 'None'})\n",
      "igraph.Vertex(<igraph.Graph object at 0x7fc7118a5138>, 4021, {'id': 'n4021', 'kegg_link': 'None', 'name': '8310', 'NODETYPE': 'Gene', 'pathways': 'None'})\n",
      "igraph.Vertex(<igraph.Graph object at 0x7fc7118a5138>, 4802, {'id': 'n4802', 'kegg_link': 'None', 'name': '10449', 'NODETYPE': 'Gene', 'pathways': 'None'})\n",
      "igraph.Vertex(<igraph.Graph object at 0x7fc7118a5138>, 4803, {'id': 'n4803', 'kegg_link': 'None', 'name': '3032', 'NODETYPE': 'Gene', 'pathways': 'None'})\n",
      "igraph.Vertex(<igraph.Graph object at 0x7fc7118a5138>, 4981, {'id': 'n4981', 'kegg_link': 'None', 'name': '126129', 'NODETYPE': 'Gene', 'pathways': 'None'})\n",
      "igraph.Vertex(<igraph.Graph object at 0x7fc7118a5138>, 5277, {'id': 'n5277', 'kegg_link': 'None', 'name': '1892', 'NODETYPE': 'Gene', 'pathways': 'None'})\n",
      "igraph.Vertex(<igraph.Graph object at 0x7fc7118a5138>, 5481, {'id': 'n5481', 'kegg_link': 'None', 'name': '2180', 'NODETYPE': 'Gene', 'pathways': 'None'})\n",
      "igraph.Vertex(<igraph.Graph object at 0x7fc7118a5138>, 5482, {'id': 'n5482', 'kegg_link': 'None', 'name': '2181', 'NODETYPE': 'Gene', 'pathways': 'None'})\n",
      "igraph.Vertex(<igraph.Graph object at 0x7fc7118a5138>, 5483, {'id': 'n5483', 'kegg_link': 'None', 'name': '2182', 'NODETYPE': 'Gene', 'pathways': 'None'})\n",
      "igraph.Vertex(<igraph.Graph object at 0x7fc7118a5138>, 5484, {'id': 'n5484', 'kegg_link': 'None', 'name': '23205', 'NODETYPE': 'Gene', 'pathways': 'None'})\n",
      "igraph.Vertex(<igraph.Graph object at 0x7fc7118a5138>, 5485, {'id': 'n5485', 'kegg_link': 'None', 'name': '23305', 'NODETYPE': 'Gene', 'pathways': 'None'})\n",
      "igraph.Vertex(<igraph.Graph object at 0x7fc7118a5138>, 5486, {'id': 'n5486', 'kegg_link': 'None', 'name': '51703', 'NODETYPE': 'Gene', 'pathways': 'None'})\n",
      "igraph.Vertex(<igraph.Graph object at 0x7fc7118a5138>, 5487, {'id': 'n5487', 'kegg_link': 'None', 'name': '5538', 'NODETYPE': 'Gene', 'pathways': 'None'})\n",
      "igraph.Vertex(<igraph.Graph object at 0x7fc7118a5138>, 5488, {'id': 'n5488', 'kegg_link': 'None', 'name': '81616', 'NODETYPE': 'Gene', 'pathways': 'None'})\n",
      "igraph.Vertex(<igraph.Graph object at 0x7fc7118a5138>, 5489, {'id': 'n5489', 'kegg_link': 'None', 'name': '9374', 'NODETYPE': 'Gene', 'pathways': 'None'})\n",
      "igraph.Vertex(<igraph.Graph object at 0x7fc7118a5138>, 6003, {'id': 'n6003', 'kegg_link': 'None', 'name': '6319', 'NODETYPE': 'Gene', 'pathways': 'None'})\n",
      "igraph.Vertex(<igraph.Graph object at 0x7fc7118a5138>, 6004, {'id': 'n6004', 'kegg_link': 'None', 'name': '79966', 'NODETYPE': 'Gene', 'pathways': 'None'})\n",
      "igraph.Vertex(<igraph.Graph object at 0x7fc7118a5138>, 6507, {'id': 'n6507', 'kegg_link': 'None', 'name': '38', 'NODETYPE': 'Gene', 'pathways': 'None'})\n",
      "igraph.Vertex(<igraph.Graph object at 0x7fc7118a5138>, 6642, {'id': 'n6642', 'kegg_link': 'None', 'name': '201562', 'NODETYPE': 'Gene', 'pathways': 'None'})\n",
      "igraph.Vertex(<igraph.Graph object at 0x7fc7118a5138>, 6643, {'id': 'n6643', 'kegg_link': 'None', 'name': '401494', 'NODETYPE': 'Gene', 'pathways': 'None'})\n",
      "igraph.Vertex(<igraph.Graph object at 0x7fc7118a5138>, 6644, {'id': 'n6644', 'kegg_link': 'None', 'name': '51495', 'NODETYPE': 'Gene', 'pathways': 'None'})\n",
      "igraph.Vertex(<igraph.Graph object at 0x7fc7118a5138>, 6645, {'id': 'n6645', 'kegg_link': 'None', 'name': '9200', 'NODETYPE': 'Gene', 'pathways': 'None'})\n"
     ]
    }
   ],
   "source": [
    "for v in fatty:\n",
    "    print(v)"
   ]
  },
  {
   "cell_type": "code",
   "execution_count": 19,
   "metadata": {
    "collapsed": false
   },
   "outputs": [
    {
     "data": {
      "text/plain": [
       "48"
      ]
     },
     "execution_count": 19,
     "metadata": {},
     "output_type": "execute_result"
    }
   ],
   "source": [
    "len(hsa01212_fatty_acids)"
   ]
  },
  {
   "cell_type": "code",
   "execution_count": null,
   "metadata": {
    "collapsed": true
   },
   "outputs": [],
   "source": []
  }
 ],
 "metadata": {
  "anaconda-cloud": {},
  "kernelspec": {
   "display_name": "Python [conda root]",
   "language": "python",
   "name": "conda-root-py"
  },
  "language_info": {
   "codemirror_mode": {
    "name": "ipython",
    "version": 3
   },
   "file_extension": ".py",
   "mimetype": "text/x-python",
   "name": "python",
   "nbconvert_exporter": "python",
   "pygments_lexer": "ipython3",
   "version": "3.5.2"
  }
 },
 "nbformat": 4,
 "nbformat_minor": 2
}
